{
 "cells": [
  {
   "cell_type": "markdown",
   "metadata": {
    "application/vnd.databricks.v1+cell": {
     "cellMetadata": {
      "byteLimit": 2048000,
      "rowLimit": 10000
     },
     "inputWidgets": {},
     "nuid": "a16bda56-0cf5-4d4a-97ed-ec7a7b828263",
     "showTitle": false,
     "tableResultSettingsMap": {},
     "title": ""
    }
   },
   "source": [
    "* Project: Ontology Management Platform\n",
    "* Notebook: Read Data from Trusted layer, apply minor transformation, join with metadata and load final data to Unified Layer.\n",
    "* Author: Ullas Vashista\n",
    "* Last Update: 05/01/2024"
   ]
  },
  {
   "cell_type": "code",
   "execution_count": 0,
   "metadata": {
    "application/vnd.databricks.v1+cell": {
     "cellMetadata": {
      "byteLimit": 2048000,
      "rowLimit": 10000
     },
     "inputWidgets": {},
     "nuid": "3aeefb73-b953-4349-9816-f31dcd977cdc",
     "showTitle": false,
     "tableResultSettingsMap": {},
     "title": ""
    }
   },
   "outputs": [],
   "source": [
    "from datetime import datetime, timedelta\n",
    "from pyspark.sql.functions import *\n",
    "from pyspark.sql.types import *\n",
    "from pyspark.sql.utils import AnalysisException\n",
    "import re\n",
    "import configparser"
   ]
  },
  {
   "cell_type": "code",
   "execution_count": 0,
   "metadata": {
    "application/vnd.databricks.v1+cell": {
     "cellMetadata": {
      "byteLimit": 2048000,
      "rowLimit": 10000
     },
     "inputWidgets": {},
     "nuid": "172e66c9-ba02-465a-9710-88ef17525f2f",
     "showTitle": false,
     "tableResultSettingsMap": {},
     "title": ""
    }
   },
   "outputs": [],
   "source": [
    "# ------------------- CONFIG -------------------\n",
    "# Create parser and read config file\n",
    "config = configparser.ConfigParser()\n",
    "config.read(\"../config/config.ini\")\n",
    "\n",
    "# Read values\n",
    "# Storage - Target\n",
    "logm_storage_account_name = config.get(\"TargetStorage\", \"account_name\")\n",
    "logm_container_name       = config.get(\"TargetStorage\", \"container_name\")\n",
    "logm_mount_name           = config.get(\"TargetStorage\", \"mount_name\")\n",
    "\n",
    "#Key Vault Scope Name\n",
    "KeyVaultScope = config.get(\"KeyVaultScope\", \"scope_name\")\n",
    "tenant_id = config.get(\"KeyVaultScope\", \"tenant_id\") # This retrieves a secret value (e.g., from a key vault). It won't display the actual value when printed (shows [REDACTED]) but works correctly when used in code. For testing or display purposes, use: tenant_id = \"<actual_tenant_id>\"\n",
    "\n",
    "# Define path to your Delta table & checkpoint\n",
    "usage_trusted_table           = config.get(\"TargetStorage\", \"usage_trusted_table\")\n",
    "\n",
    "metadata_final_table           = config.get(\"TargetStorage\", \"metadata_final_table\")\n",
    "usage_final_table           = config.get(\"TargetStorage\", \"usage_final_table\")"
   ]
  },
  {
   "cell_type": "code",
   "execution_count": 0,
   "metadata": {
    "application/vnd.databricks.v1+cell": {
     "cellMetadata": {
      "byteLimit": 2048000,
      "rowLimit": 10000
     },
     "inputWidgets": {},
     "nuid": "f788fd90-b56a-4f61-911d-143ffa330da8",
     "showTitle": false,
     "tableResultSettingsMap": {},
     "title": ""
    }
   },
   "outputs": [],
   "source": [
    "# Read Delta Trusted table in batch mode\n",
    "gold_usage_df = spark.read.format(\"delta\").load(usage_trusted_table)\n",
    "gold_metadata_df = spark.read.format(\"delta\").load(metadata_final_table)"
   ]
  },
  {
   "cell_type": "code",
   "execution_count": 0,
   "metadata": {
    "application/vnd.databricks.v1+cell": {
     "cellMetadata": {
      "byteLimit": 2048000,
      "rowLimit": 10000
     },
     "inputWidgets": {},
     "nuid": "0ff196b0-a817-48e6-bc60-85eb14c8cd6a",
     "showTitle": false,
     "tableResultSettingsMap": {},
     "title": ""
    }
   },
   "outputs": [],
   "source": [
    "#add final transfomation to Usage\n",
    "gold_usage_df = (\n",
    "    gold_usage_df\n",
    "    .withColumn(\"body\", to_json(struct(*gold_usage_df.columns)))\n",
    "    .withColumn(\"MetadataLogId\", sha2(col(\"body\"), 512).cast(\"string\"))\n",
    "    .drop(\"body\")\n",
    "    .withColumn(\"MetadataLogWindow\", date_format(from_utc_timestamp(col(\"MetadataLogTimeGenerated\"), \"UTC\"), \"yyMMddHHmm\").cast(LongType()))\n",
    "    .withColumn(\"MetadataLogGuid\", concat(col(\"MetadataLogWindow\"), lpad(monotonically_increasing_id(), 9, \"0\")).cast(LongType()))\n",
    "    .drop(\"MetadataLogWindow\")\n",
    ")"
   ]
  },
  {
   "cell_type": "code",
   "execution_count": 0,
   "metadata": {
    "application/vnd.databricks.v1+cell": {
     "cellMetadata": {
      "byteLimit": 2048000,
      "rowLimit": 10000
     },
     "inputWidgets": {},
     "nuid": "69d28024-ac30-4dfc-9070-2d5c5df947a3",
     "showTitle": false,
     "tableResultSettingsMap": {},
     "title": ""
    }
   },
   "outputs": [],
   "source": [
    "# joining metadata to usage data\n",
    "#Select required columns from metadata and create JKey\n",
    "gold_metadata_trimmed = (\n",
    "    gold_metadata_df\n",
    "    .select(\"ontology\", \"filename\", \"size_in_kb\")\n",
    "    .withColumn(\"JKey\", concat(col(\"ontology\"), lit(\"Download\")))\n",
    ")\n",
    "\n",
    "# Create JKey in usage table\n",
    "gold_usage_with_key = (\n",
    "    gold_usage_df\n",
    "    .withColumn(\"JKey\", concat(col(\"ontology\"), col(\"activity\")))\n",
    ")\n",
    "\n",
    "# Broadcast join on JKey\n",
    "final_df = (\n",
    "    gold_usage_with_key\n",
    "    .join(broadcast(gold_metadata_trimmed), on=\"JKey\", how=\"left\")\n",
    "    .drop(gold_metadata_trimmed[\"ontology\"])\n",
    "    .drop(\"JKey\")\n",
    ")"
   ]
  },
  {
   "cell_type": "code",
   "execution_count": 0,
   "metadata": {
    "application/vnd.databricks.v1+cell": {
     "cellMetadata": {
      "byteLimit": 2048000,
      "rowLimit": 10000
     },
     "inputWidgets": {},
     "nuid": "c64cb0a1-3016-41ce-9272-7e643f095afb",
     "showTitle": false,
     "tableResultSettingsMap": {},
     "title": ""
    }
   },
   "outputs": [],
   "source": [
    "#write final data into Unified layer\n",
    "final_df.write.format(\"delta\").mode(\"overwrite\").save(usage_final_table)"
   ]
  }
 ],
 "metadata": {
  "application/vnd.databricks.v1+notebook": {
   "computePreferences": null,
   "dashboards": [],
   "environmentMetadata": {
    "base_environment": "",
    "environment_version": "3"
   },
   "inputWidgetPreferences": null,
   "language": "python",
   "notebookMetadata": {
    "pythonIndentUnit": 4
   },
   "notebookName": "ETL_EventHub_omp_Usage_UNIFIED",
   "widgets": {}
  },
  "language_info": {
   "name": "python"
  }
 },
 "nbformat": 4,
 "nbformat_minor": 0
}