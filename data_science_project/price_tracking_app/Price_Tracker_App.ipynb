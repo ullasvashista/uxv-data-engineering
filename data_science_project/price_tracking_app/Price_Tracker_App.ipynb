{
 "cells": [
  {
   "cell_type": "code",
   "execution_count": null,
   "metadata": {},
   "outputs": [],
   "source": [
    "pip install requests"
   ]
  },
  {
   "cell_type": "code",
   "execution_count": null,
   "metadata": {},
   "outputs": [],
   "source": [
    "pip install bs4"
   ]
  },
  {
   "cell_type": "code",
   "execution_count": 19,
   "metadata": {},
   "outputs": [
    {
     "name": "stdout",
     "output_type": "stream",
     "text": [
      "₹ 12,999.00\n"
     ]
    }
   ],
   "source": [
    "import requests\n",
    "from bs4 import BeautifulSoup\n",
    "\n",
    "URL=\"https://www.amazon.in/Test-Exclusive-550/dp/B077Q7GW9V/ref=sr_1_1?crid=1UOK3NVYL37FY&dchild=1&keywords=redmi+9+pro&qid=1614592820&sprefix=redmi%2Caps%2C501&sr=8-1\"\n",
    "\n",
    "headers={\n",
    "    \"user-Agent\":\"Mozilla/5.0 (Windows NT 10.0; Win64; x64) AppleWebKit/537.36 (KHTML, like Gecko) Chrome/88.0.4324.190 Safari/537.36\"\n",
    "}\n",
    "\n",
    "#get user agent by typing \"my user agent\" in Google\n",
    "#User agent used to access browser by notebook\n",
    "\n",
    "page=requests.get(URL,headers=headers)\n",
    "soup=BeautifulSoup(page.content,'html.parser')\n",
    "#to get html code of website of URL used\n",
    "\n",
    "product_price=soup.find(id=\"priceblock_dealprice\")\n",
    "#tag id of item to be find\n",
    "#right click on the item and click on inspect\n",
    "\n",
    "\n",
    "#for different Tag ID\n",
    "if(product_price==None):\n",
    "    product_price=soup.find(id=\"priceblock_ourprice\")\n",
    "    \n",
    "\n",
    "price=product_price.getText()\n",
    "#to get only price in text\n",
    "\n",
    "\n",
    "#data cleaning process\n",
    "num_price=price[2:]\n",
    "num_price=num_price.replace(',','')\n",
    "num_price=float(num_price)\n",
    "\n",
    "print(price)\n",
    "\n",
    "#Price tracker logic\n",
    "if num_price<10000:\n",
    "    print(\"Available at your price\")"
   ]
  },
  {
   "cell_type": "code",
   "execution_count": 58,
   "metadata": {},
   "outputs": [],
   "source": [
    "import requests\n",
    "from bs4 import BeautifulSoup\n",
    "import pandas as pd\n",
    "\n",
    "headers={\n",
    "    \"user-Agent\":\"Mozilla/5.0 (Windows NT 10.0; Win64; x64) AppleWebKit/537.36 (KHTML, like Gecko) Chrome/88.0.4324.190 Safari/537.36\"\n",
    "}\n",
    "\n",
    "def pricetrack(URL,target):\n",
    "    page=requests.get(URL,headers=headers)\n",
    "    soup=BeautifulSoup(page.content,'html.parser')\n",
    "    product_price=soup.find(id=\"priceblock_dealprice\")\n",
    "    if(product_price==None):\n",
    "        product_price=soup.find(id=\"priceblock_ourprice\")\n",
    "    price=product_price.getText()\n",
    "    num_price=price[2:]\n",
    "    num_price=num_price.replace(',','')\n",
    "    num_price=float(num_price)\n",
    "    target=int(target)\n",
    "    if num_price<target:\n",
    "        text=\"Available at your price\"\n",
    "    else:\n",
    "        text=\"Still at same price\"\n",
    "    return [text,num_price]\n",
    "try:        \n",
    "    df=pd.read_excel(\"E:/Phython_Full_Stack/Files/PriceTracker.xlsx\")\n",
    "    out=open(\"E:/Phython_Full_Stack/Files/pricetrackerout.txt\",\"w\")\n",
    "    rows=0\n",
    "    while(rows<5):\n",
    "        url=(df.iloc[rows]['URL'])\n",
    "        model=(df.iloc[rows]['Model'])\n",
    "        target=(df.iloc[rows]['Target Price'])\n",
    "        final=pricetrack(url,target)\n",
    "        present_price=str(final[1])\n",
    "        text=final[0]\n",
    "        out.write(model+ ' ' + 'Present Price: Rs.'+present_price+' Status:'+ text +'\\n')\n",
    "        rows+=1\n",
    "    \n",
    "finally:\n",
    "    out.close()\n",
    "    "
   ]
  },
  {
   "cell_type": "code",
   "execution_count": null,
   "metadata": {},
   "outputs": [],
   "source": []
  },
  {
   "cell_type": "code",
   "execution_count": null,
   "metadata": {},
   "outputs": [],
   "source": []
  }
 ],
 "metadata": {
  "kernelspec": {
   "display_name": "Python 3",
   "language": "python",
   "name": "python3"
  },
  "language_info": {
   "codemirror_mode": {
    "name": "ipython",
    "version": 3
   },
   "file_extension": ".py",
   "mimetype": "text/x-python",
   "name": "python",
   "nbconvert_exporter": "python",
   "pygments_lexer": "ipython3",
   "version": "3.8.5"
  }
 },
 "nbformat": 4,
 "nbformat_minor": 4
}
